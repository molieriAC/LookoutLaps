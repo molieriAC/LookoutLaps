{
 "cells": [
  {
   "cell_type": "code",
   "execution_count": null,
   "metadata": {},
   "outputs": [],
   "source": [
    "# imports\n",
    "import admin\n",
    "import pandas as pd\n",
    "import requests\n",
    "import urllib3\n",
    "urllib3.disable_warnings(urllib3.exceptions.InsecureRequestWarning)"
   ]
  },
  {
   "cell_type": "code",
   "execution_count": null,
   "metadata": {},
   "outputs": [],
   "source": [
    "# Strava API call\n",
    "auth_url = \"https://www.strava.com/oauth/token\"\n",
    "segments_url = \"https://www.strava.com/api/v3/segment_efforts\"\n",
    "\n",
    "payload = {\n",
    "    'client_id': admin.ClientID,\n",
    "    'client_secret': admin.ClientSecret,\n",
    "    'refresh_token': admin.RefreshToken,\n",
    "    'grant_type': \"refresh_token\",\n",
    "    'f': 'json'\n",
    "}\n",
    "\n",
    "# Get updated access token\n",
    "print(\"Requesting Token...\\n\")\n",
    "res = requests.post(auth_url, data=payload, verify=False)\n",
    "access_token = res.json()['access_token']\n",
    "print(\"Access Token = {}\\n\".format(access_token))\n",
    "\n",
    "# Pull strava segement data (segment ID is the segment of interest)\n",
    "header = {'Authorization': 'Bearer ' + access_token}\n",
    "param = {\"segment_id\": 609371, 'per_page': 100}\n",
    "strava_data = requests.get(segments_url, headers=header, params=param).json()\n"
   ]
  },
  {
   "cell_type": "code",
   "execution_count": null,
   "metadata": {},
   "outputs": [],
   "source": [
    "# Convert json to dataframe and save\n",
    "strava_df = pd.DataFrame(strava_data)\n",
    "\n",
    "strava_df.to_csv(\"lookout_data.csv\")"
   ]
  }
 ],
 "metadata": {
  "interpreter": {
   "hash": "5de041f34af249fe95230f6bdf66b9e329d7a6068ec7388d2c2808284787eaca"
  },
  "kernelspec": {
   "display_name": "Python 3.9.13 ('base')",
   "language": "python",
   "name": "python3"
  },
  "language_info": {
   "codemirror_mode": {
    "name": "ipython",
    "version": 3
   },
   "file_extension": ".py",
   "mimetype": "text/x-python",
   "name": "python",
   "nbconvert_exporter": "python",
   "pygments_lexer": "ipython3",
   "version": "3.9.13"
  },
  "orig_nbformat": 4
 },
 "nbformat": 4,
 "nbformat_minor": 2
}
